{
 "cells": [
  {
   "cell_type": "code",
   "execution_count": null,
   "id": "f6f1596c-73b5-4edc-a599-7e21901df04a",
   "metadata": {
    "scrolled": true
   },
   "outputs": [],
   "source": [
    "1. Product ID\n",
    "2. Name of Product\n",
    "3. Price of Product\n",
    "4. Quantity\n",
    "5. Category"
   ]
  },
  {
   "cell_type": "code",
   "execution_count": null,
   "id": "8554ff2c",
   "metadata": {},
   "outputs": [],
   "source": []
  },
  {
   "cell_type": "code",
   "execution_count": 62,
   "id": "82ab75ab-6512-4f3c-be56-9edf7bb54d45",
   "metadata": {},
   "outputs": [
    {
     "name": "stdout",
     "output_type": "stream",
     "text": [
      "Enter Your Name:  Adarsh KUmar\n",
      "Enter Your Phone Number:  8340115106\n",
      "Enter Your E-Mail:  adarsh2004ku@gmail.com\n",
      "Enter Product ID:  1\n",
      "Enter Product Quantity:  50\n"
     ]
    },
    {
     "name": "stdout",
     "output_type": "stream",
     "text": [
      "----------------------------------------\n",
      "Product Name      : 5 Star\n",
      "Price             : 5\n",
      "Quantity          : 50\n",
      "----------------------------------------\n",
      "Billing Amount    : 250\n",
      "----------------------------------------\n",
      "-------------------\n",
      "Inventory Updated\n"
     ]
    }
   ],
   "source": [
    "import time\n",
    "\n",
    "# Read inventory from file\n",
    "fd = open('Inventory.txt', \"r\")\n",
    "products = fd.read().split('\\n')\n",
    "fd.close()\n",
    "\n",
    "# Input from user\n",
    "ui_username = input(\"Enter Your Name: \")\n",
    "ui_phone = input(\"Enter Your Phone Number: \")\n",
    "ui_Mail = input(\"Enter Your E-Mail: \")\n",
    "ui_prod_id = input(\"Enter Product ID: \")\n",
    "ui_prod_qn = input(\"Enter Product Quantity: \")\n",
    "\n",
    "print(\"-\" * 40)\n",
    "\n",
    "updated_product_lst = []\n",
    "\n",
    "# Process each product\n",
    "for product in products:\n",
    "    prod_details = product.split(',')\n",
    "\n",
    "    if prod_details[0] == ui_prod_id:\n",
    "        if int(ui_prod_qn) <= int(prod_details[3]):\n",
    "            print(\"Product Name      :\", prod_details[1])\n",
    "            print(\"Price             :\", prod_details[2])\n",
    "            print(\"Quantity          :\", ui_prod_qn)\n",
    "            print(\"-\" * 40)\n",
    "            print(\"Billing Amount    :\", int(ui_prod_qn) * int(prod_details[2]))\n",
    "            print(\"-\" * 40)\n",
    "\n",
    "            # Write sales data\n",
    "            fd = open(\"Sales.txt\", \"a\")\n",
    "            sales_detail = (\n",
    "                ui_username + \",\" + ui_phone + \",\" + ui_Mail + \",\" + prod_details[1] +\n",
    "                \",\" + ui_prod_id + \",\" + ui_prod_qn + \",\" +\n",
    "                str(int(ui_prod_qn) * int(prod_details[2])) + \",\" + time.ctime() + \"\\n\"\n",
    "            )\n",
    "            fd.write(sales_detail)\n",
    "            fd.close()\n",
    "\n",
    "            # Update inventory quantity\n",
    "            prod_details[3] = str(int(prod_details[3]) - int(ui_prod_qn))\n",
    "\n",
    "        else:\n",
    "            # If not enough quantity\n",
    "            print(\"Sorry, we're not having enough quantity.\")\n",
    "            print(\"We're having only\", prod_details[3], 'quantity.')\n",
    "            print(\"Would you like to purchase it?\")\n",
    "\n",
    "            ch = input(\"Press Y/N: \")\n",
    "\n",
    "            if ch in ['Y', 'y']:\n",
    "                # If user wants to purchase available quantity\n",
    "                print(\"-----------------------------\")\n",
    "                print(\"Product Name     : \", prod_details[1])\n",
    "                print(\"Price            : \", prod_details[2])\n",
    "                print(\"Quantity         : \", prod_details[3])\n",
    "                print(\"-----------------------------\")\n",
    "                print(\"Billing Amount   : \", int(prod_details[3]) * int(prod_details[2]))\n",
    "                print(\"-----------------------------\")\n",
    "\n",
    "                # Write sales data\n",
    "                fd = open(\"Sales.txt\", \"a\")\n",
    "                sales_detail = (\n",
    "                    ui_username + \",\" + ui_phone + \",\" + ui_Mail + \",\" + prod_details[1] +\n",
    "                    \",\" + ui_prod_id + \",\" + prod_details[3] + \",\" +\n",
    "                    str(int(prod_details[3]) * int(prod_details[2])) + \",\" + time.ctime() + \"\\n\"\n",
    "                )\n",
    "                fd.write(sales_detail)\n",
    "                fd.close()\n",
    "\n",
    "                # Update inventory quantity\n",
    "                prod_details[3] = '0'\n",
    "\n",
    "            else:\n",
    "                print(\"Thanks\")\n",
    "\n",
    "    # Update inventory list\n",
    "    updated_product_lst.append(prod_details)\n",
    "\n",
    "# Create updated inventory string\n",
    "lst = []\n",
    "\n",
    "for i in updated_product_lst:\n",
    "    prod = i[0] + \",\" + i[1] + \",\" + i[2] + \",\" + i[3] + '\\n'\n",
    "    lst.append(prod)\n",
    "\n",
    "lst[-1] = lst[-1][:-1]  # Remove trailing newline from the last product\n",
    "\n",
    "# Write updated inventory back to the file\n",
    "fd = open('Inventory.txt', 'w')\n",
    "\n",
    "for i in lst:\n",
    "    fd.write(i)\n",
    "\n",
    "fd.close()\n",
    "\n",
    "print(\"-------------------\")\n",
    "print(\"Inventory Updated\")\n"
   ]
  },
  {
   "cell_type": "code",
   "execution_count": null,
   "id": "6b1b4d67-ae79-4b67-867d-8778430de833",
   "metadata": {},
   "outputs": [],
   "source": []
  }
 ],
 "metadata": {
  "kernelspec": {
   "display_name": "Python 3",
   "language": "python",
   "name": "python3_env"
  },
  "language_info": {
   "codemirror_mode": {
    "name": "ipython",
    "version": 3
   },
   "file_extension": ".py",
   "mimetype": "text/x-python",
   "name": "python",
   "nbconvert_exporter": "python",
   "pygments_lexer": "ipython3",
   "version": "3.12.7"
  },
  "panel-cell-order": [
   "0958a3e4-b8bd-4411-a12a-cc3925206842"
  ]
 },
 "nbformat": 4,
 "nbformat_minor": 5
}
